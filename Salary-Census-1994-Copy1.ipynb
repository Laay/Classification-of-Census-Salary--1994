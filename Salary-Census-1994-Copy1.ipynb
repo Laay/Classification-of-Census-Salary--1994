{
 "cells": [
  {
   "cell_type": "markdown",
   "metadata": {},
   "source": [
    "<center><h1><span style=\"color:#000058\"> \"1994 Census Salary Dataset\" </span></h1> </center>"
   ]
  },
  {
   "cell_type": "code",
   "execution_count": 1,
   "metadata": {},
   "outputs": [
    {
     "data": {
      "text/html": [
       "<style type=\"text/css\">\n",
       "table.dataframe td, table.dataframe th {\n",
       "    border: 1px  black solid !important;\n",
       "  color: black !important;\n",
       "}\n",
       "</style>"
      ],
      "text/plain": [
       "<IPython.core.display.HTML object>"
      ]
     },
     "metadata": {},
     "output_type": "display_data"
    }
   ],
   "source": [
    "%%HTML\n",
    "<style type=\"text/css\">\n",
    "table.dataframe td, table.dataframe th {\n",
    "    border: 1px  black solid !important;\n",
    "  color: black !important;\n",
    "}\n",
    "</style>"
   ]
  },
  {
   "cell_type": "code",
   "execution_count": 1,
   "metadata": {},
   "outputs": [],
   "source": [
    "import pandas as pd\n",
    "data = pd.read_csv('adult.csv')"
   ]
  },
  {
   "cell_type": "code",
   "execution_count": 2,
   "metadata": {},
   "outputs": [
    {
     "data": {
      "text/plain": [
       "(32561, 15)"
      ]
     },
     "execution_count": 2,
     "metadata": {},
     "output_type": "execute_result"
    }
   ],
   "source": [
    "data.shape"
   ]
  },
  {
   "cell_type": "markdown",
   "metadata": {},
   "source": [
    "The dataset has 15 features and 32561 rows. Let's observe the first 5 rows of the dataset. "
   ]
  },
  {
   "cell_type": "code",
   "execution_count": 5,
   "metadata": {},
   "outputs": [
    {
     "data": {
      "text/html": [
       "<div>\n",
       "<style scoped>\n",
       "    .dataframe tbody tr th:only-of-type {\n",
       "        vertical-align: middle;\n",
       "    }\n",
       "\n",
       "    .dataframe tbody tr th {\n",
       "        vertical-align: top;\n",
       "    }\n",
       "\n",
       "    .dataframe thead th {\n",
       "        text-align: right;\n",
       "    }\n",
       "</style>\n",
       "<table border=\"1\" class=\"dataframe\">\n",
       "  <thead>\n",
       "    <tr style=\"text-align: right;\">\n",
       "      <th></th>\n",
       "      <th>age</th>\n",
       "      <th>workclass</th>\n",
       "      <th>fnlwgt</th>\n",
       "      <th>education</th>\n",
       "      <th>education-num</th>\n",
       "      <th>marital-status</th>\n",
       "      <th>occupation</th>\n",
       "      <th>relationship</th>\n",
       "      <th>race</th>\n",
       "      <th>sex</th>\n",
       "      <th>capital-gain</th>\n",
       "      <th>capital-loss</th>\n",
       "      <th>hours-per-week</th>\n",
       "      <th>native-country</th>\n",
       "      <th>Salary</th>\n",
       "    </tr>\n",
       "  </thead>\n",
       "  <tbody>\n",
       "    <tr>\n",
       "      <th>0</th>\n",
       "      <td>39</td>\n",
       "      <td>State-gov</td>\n",
       "      <td>77516</td>\n",
       "      <td>Bachelors</td>\n",
       "      <td>13</td>\n",
       "      <td>Never-married</td>\n",
       "      <td>Adm-clerical</td>\n",
       "      <td>Not-in-family</td>\n",
       "      <td>White</td>\n",
       "      <td>Male</td>\n",
       "      <td>2174</td>\n",
       "      <td>0</td>\n",
       "      <td>40</td>\n",
       "      <td>United-States</td>\n",
       "      <td>&lt;=50K</td>\n",
       "    </tr>\n",
       "    <tr>\n",
       "      <th>1</th>\n",
       "      <td>50</td>\n",
       "      <td>Self-emp-not-inc</td>\n",
       "      <td>83311</td>\n",
       "      <td>Bachelors</td>\n",
       "      <td>13</td>\n",
       "      <td>Married-civ-spouse</td>\n",
       "      <td>Exec-managerial</td>\n",
       "      <td>Husband</td>\n",
       "      <td>White</td>\n",
       "      <td>Male</td>\n",
       "      <td>0</td>\n",
       "      <td>0</td>\n",
       "      <td>13</td>\n",
       "      <td>United-States</td>\n",
       "      <td>&lt;=50K</td>\n",
       "    </tr>\n",
       "    <tr>\n",
       "      <th>2</th>\n",
       "      <td>38</td>\n",
       "      <td>Private</td>\n",
       "      <td>215646</td>\n",
       "      <td>HS-grad</td>\n",
       "      <td>9</td>\n",
       "      <td>Divorced</td>\n",
       "      <td>Handlers-cleaners</td>\n",
       "      <td>Not-in-family</td>\n",
       "      <td>White</td>\n",
       "      <td>Male</td>\n",
       "      <td>0</td>\n",
       "      <td>0</td>\n",
       "      <td>40</td>\n",
       "      <td>United-States</td>\n",
       "      <td>&lt;=50K</td>\n",
       "    </tr>\n",
       "  </tbody>\n",
       "</table>\n",
       "</div>"
      ],
      "text/plain": [
       "   age          workclass  fnlwgt   education  education-num  \\\n",
       "0   39          State-gov   77516   Bachelors             13   \n",
       "1   50   Self-emp-not-inc   83311   Bachelors             13   \n",
       "2   38            Private  215646     HS-grad              9   \n",
       "\n",
       "        marital-status          occupation    relationship    race    sex  \\\n",
       "0        Never-married        Adm-clerical   Not-in-family   White   Male   \n",
       "1   Married-civ-spouse     Exec-managerial         Husband   White   Male   \n",
       "2             Divorced   Handlers-cleaners   Not-in-family   White   Male   \n",
       "\n",
       "   capital-gain  capital-loss  hours-per-week  native-country  Salary  \n",
       "0          2174             0              40   United-States   <=50K  \n",
       "1             0             0              13   United-States   <=50K  \n",
       "2             0             0              40   United-States   <=50K  "
      ]
     },
     "execution_count": 5,
     "metadata": {},
     "output_type": "execute_result"
    }
   ],
   "source": [
    "data.head(3)"
   ]
  },
  {
   "cell_type": "markdown",
   "metadata": {},
   "source": [
    "\n",
    "### Data preprocessing"
   ]
  },
  {
   "cell_type": "code",
   "execution_count": 6,
   "metadata": {},
   "outputs": [],
   "source": [
    "import warnings\n",
    "import numpy as np\n",
    "warnings.simplefilter(action='ignore', category=FutureWarning)"
   ]
  },
  {
   "cell_type": "markdown",
   "metadata": {},
   "source": [
    "The dataset has \" ?\" as missing values, replacing \" ?\" with NaNs"
   ]
  },
  {
   "cell_type": "code",
   "execution_count": 7,
   "metadata": {},
   "outputs": [],
   "source": [
    "data = data[data != ' ?']"
   ]
  },
  {
   "cell_type": "markdown",
   "metadata": {},
   "source": [
    "### Missing value report"
   ]
  },
  {
   "cell_type": "code",
   "execution_count": 74,
   "metadata": {},
   "outputs": [
    {
     "data": {
      "text/html": [
       "<div>\n",
       "<style scoped>\n",
       "    .dataframe tbody tr th:only-of-type {\n",
       "        vertical-align: middle;\n",
       "    }\n",
       "\n",
       "    .dataframe tbody tr th {\n",
       "        vertical-align: top;\n",
       "    }\n",
       "\n",
       "    .dataframe thead th {\n",
       "        text-align: right;\n",
       "    }\n",
       "</style>\n",
       "<table border=\"1\" class=\"dataframe\">\n",
       "  <thead>\n",
       "    <tr style=\"text-align: right;\">\n",
       "      <th></th>\n",
       "      <th>Number of missing data points</th>\n",
       "      <th>Percentage Missing values (%)</th>\n",
       "    </tr>\n",
       "  </thead>\n",
       "  <tbody>\n",
       "    <tr>\n",
       "      <th>age</th>\n",
       "      <td>0</td>\n",
       "      <td>0.0</td>\n",
       "    </tr>\n",
       "    <tr>\n",
       "      <th>native-country_ Jamaica</th>\n",
       "      <td>0</td>\n",
       "      <td>0.0</td>\n",
       "    </tr>\n",
       "    <tr>\n",
       "      <th>native-country_ Ireland</th>\n",
       "      <td>0</td>\n",
       "      <td>0.0</td>\n",
       "    </tr>\n",
       "    <tr>\n",
       "      <th>native-country_ Iran</th>\n",
       "      <td>0</td>\n",
       "      <td>0.0</td>\n",
       "    </tr>\n",
       "    <tr>\n",
       "      <th>native-country_ India</th>\n",
       "      <td>0</td>\n",
       "      <td>0.0</td>\n",
       "    </tr>\n",
       "  </tbody>\n",
       "</table>\n",
       "</div>"
      ],
      "text/plain": [
       "                         Number of missing data points  \\\n",
       "age                                                  0   \n",
       "native-country_ Jamaica                              0   \n",
       "native-country_ Ireland                              0   \n",
       "native-country_ Iran                                 0   \n",
       "native-country_ India                                0   \n",
       "\n",
       "                         Percentage Missing values (%)  \n",
       "age                                                0.0  \n",
       "native-country_ Jamaica                            0.0  \n",
       "native-country_ Ireland                            0.0  \n",
       "native-country_ Iran                               0.0  \n",
       "native-country_ India                              0.0  "
      ]
     },
     "execution_count": 74,
     "metadata": {},
     "output_type": "execute_result"
    }
   ],
   "source": [
    "def getMissingvalues(dataset,rownums=5):\n",
    "    dataset1 = pd.DataFrame(dataset.isnull().sum(), columns = [\"Number of missing data points\"])\n",
    "    dataset1['Percentage Missing values (%)'] = round((dataset1['Number of missing data points']/len(dataset))*100, 2)\n",
    "    dataset1 = dataset1.sort_values(by=['Percentage Missing values (%)'], kind = 'quicksort', ascending=False)\n",
    "    if dataset1.iloc[0, 0] > 0:\n",
    "        return dataset1.head(rownums)\n",
    "    else:\n",
    "        return print(\"No Missing values in this dataset\")\n",
    "    \n",
    "getMissingvalues(data)"
   ]
  },
  {
   "cell_type": "markdown",
   "metadata": {},
   "source": [
    "\"Occupation\", \"Workclass\" and \"Native Country\" has some missing values, although the missing value percentage is less than 10%. "
   ]
  },
  {
   "cell_type": "markdown",
   "metadata": {},
   "source": [
    "### Exploratory Data Analysis"
   ]
  },
  {
   "cell_type": "code",
   "execution_count": 10,
   "metadata": {},
   "outputs": [],
   "source": [
    "def hundred_bar(dataset, col1, col2, size1, size2): \n",
    "    import matplotlib.ticker as mtick\n",
    "    import matplotlib.pyplot as plt\n",
    "    import seaborn as sns\n",
    "    dataset.groupby([col1, col2]).size().groupby(level=0).apply(\n",
    "                                        lambda x: 100 * x / x.sum()).unstack().plot(kind='bar',\n",
    "                                        stacked=True)\n",
    "    plt.rcParams[\"figure.figsize\"] = (size1, size2)\n",
    "    plt.gca().yaxis.set_major_formatter(mtick.PercentFormatter())\n",
    "    sns.set_style(\"ticks\")\n",
    "    sns.set_context(\"poster\")\n",
    "    sns.set_palette(\"GnBu_r\",2)\n",
    "    plt.legend(bbox_to_anchor=(0., 1.02, 1., .102), loc=3,\n",
    "           ncol=2, mode=\"expand\", borderaxespad=0.)\n",
    "    plt.show() "
   ]
  },
  {
   "cell_type": "markdown",
   "metadata": {},
   "source": [
    "**Race ~ Salary**   : From graph we can see that ethnically White and Asian people are more likely to earn salary more than 50k as compared to other ethnicities. \n",
    "\n",
    "**Education~Salary** : Individual who acheived \"PhD\" and \"Masters\" degree are more likely to earn better than college droped out. \n",
    "\n",
    "**Gender ~ Salary**  : More males are having salary more than 50k than females.  "
   ]
  },
  {
   "cell_type": "code",
   "execution_count": 12,
   "metadata": {},
   "outputs": [
    {
     "data": {
      "image/png": "[encoded data removed]",
      "text/plain": [
       "<matplotlib.figure.Figure at 0x1e34da3ef60>"
      ]
     },
     "metadata": {},
     "output_type": "display_data"
    },
    {
     "data": {
      "image/png": "[encoded data removed]",
      "text/plain": [
       "<matplotlib.figure.Figure at 0x1e34daedb00>"
      ]
     },
     "metadata": {},
     "output_type": "display_data"
    },
    {
     "data": {
      "image/png": "[encoded data removed]",
      "text/plain": [
       "<matplotlib.figure.Figure at 0x1e34db41710>"
      ]
     },
     "metadata": {},
     "output_type": "display_data"
    },
    {
     "data": {
      "image/png": "[encoded data removed]",
      "text/plain": [
       "<matplotlib.figure.Figure at 0x1e34db8b160>"
      ]
     },
     "metadata": {},
     "output_type": "display_data"
    }
   ],
   "source": [
    "listOfgraphs = [\"race\", \"education\", \"workclass\", \"sex\"]\n",
    "for i in range(len(listOfgraph)):\n",
    "    hundred_bar(data, listOfgraph[i], \"Salary\", 6, 4)"
   ]
  },
  {
   "cell_type": "code",
   "execution_count": 13,
   "metadata": {},
   "outputs": [],
   "source": [
    "def create_dummy_variables(dataset, list_of_varnames):\n",
    "    dataset1 = pd.get_dummies(dataset[list_of_varnames])\n",
    "    dataset = pd.concat([dataset, dataset1], axis =1)\n",
    "    dataset.drop(list_of_varnames, axis = 1, inplace = True)\n",
    "    return dataset"
   ]
  },
  {
   "cell_type": "code",
   "execution_count": 14,
   "metadata": {},
   "outputs": [],
   "source": [
    "def numerical_variables(dataset):\n",
    "    a = pd.DataFrame(dataset.select_dtypes(include=['float64','float32','int32','int64', 'uint8']).dtypes, columns = [\"Data Type\"])\n",
    "    a['Number of levels'] = pd.DataFrame(dataset.select_dtypes(include=['float64','float32','int32','int64', 'uint8'])).nunique()\n",
    "    return a"
   ]
  },
  {
   "cell_type": "code",
   "execution_count": 15,
   "metadata": {},
   "outputs": [],
   "source": [
    "def numerical_data(dataset):\n",
    "    return pd.DataFrame(dataset.select_dtypes(include=['float64','float32','int32','int64', 'uint8']))"
   ]
  },
  {
   "cell_type": "code",
   "execution_count": 16,
   "metadata": {},
   "outputs": [],
   "source": [
    "def categorical_data(dataset):\n",
    "    return pd.DataFrame(dataset.select_dtypes(include=['category', 'object', 'bool_']))"
   ]
  },
  {
   "cell_type": "code",
   "execution_count": 17,
   "metadata": {},
   "outputs": [],
   "source": [
    "def categorical_variables(dataset):\n",
    "    a = pd.DataFrame(dataset.select_dtypes(include=['category', 'object', 'bool_']).dtypes, columns = [\"Data Type\"])\n",
    "    a['Number of levels'] = pd.DataFrame(dataset.select_dtypes(include=['category', 'object', 'bool_'])).nunique()\n",
    "    return a"
   ]
  },
  {
   "cell_type": "markdown",
   "metadata": {},
   "source": [
    "List of categorical variables in the dataset"
   ]
  },
  {
   "cell_type": "code",
   "execution_count": 19,
   "metadata": {},
   "outputs": [
    {
     "data": {
      "text/html": [
       "<div>\n",
       "<style scoped>\n",
       "    .dataframe tbody tr th:only-of-type {\n",
       "        vertical-align: middle;\n",
       "    }\n",
       "\n",
       "    .dataframe tbody tr th {\n",
       "        vertical-align: top;\n",
       "    }\n",
       "\n",
       "    .dataframe thead th {\n",
       "        text-align: right;\n",
       "    }\n",
       "</style>\n",
       "<table border=\"1\" class=\"dataframe\">\n",
       "  <thead>\n",
       "    <tr style=\"text-align: right;\">\n",
       "      <th></th>\n",
       "      <th>Data Type</th>\n",
       "      <th>Number of levels</th>\n",
       "    </tr>\n",
       "  </thead>\n",
       "  <tbody>\n",
       "    <tr>\n",
       "      <th>workclass</th>\n",
       "      <td>object</td>\n",
       "      <td>8</td>\n",
       "    </tr>\n",
       "    <tr>\n",
       "      <th>education</th>\n",
       "      <td>object</td>\n",
       "      <td>16</td>\n",
       "    </tr>\n",
       "    <tr>\n",
       "      <th>marital-status</th>\n",
       "      <td>object</td>\n",
       "      <td>7</td>\n",
       "    </tr>\n",
       "    <tr>\n",
       "      <th>occupation</th>\n",
       "      <td>object</td>\n",
       "      <td>14</td>\n",
       "    </tr>\n",
       "    <tr>\n",
       "      <th>relationship</th>\n",
       "      <td>object</td>\n",
       "      <td>6</td>\n",
       "    </tr>\n",
       "    <tr>\n",
       "      <th>race</th>\n",
       "      <td>object</td>\n",
       "      <td>5</td>\n",
       "    </tr>\n",
       "    <tr>\n",
       "      <th>sex</th>\n",
       "      <td>object</td>\n",
       "      <td>2</td>\n",
       "    </tr>\n",
       "    <tr>\n",
       "      <th>native-country</th>\n",
       "      <td>object</td>\n",
       "      <td>41</td>\n",
       "    </tr>\n",
       "    <tr>\n",
       "      <th>Salary</th>\n",
       "      <td>object</td>\n",
       "      <td>2</td>\n",
       "    </tr>\n",
       "  </tbody>\n",
       "</table>\n",
       "</div>"
      ],
      "text/plain": [
       "               Data Type  Number of levels\n",
       "workclass         object                 8\n",
       "education         object                16\n",
       "marital-status    object                 7\n",
       "occupation        object                14\n",
       "relationship      object                 6\n",
       "race              object                 5\n",
       "sex               object                 2\n",
       "native-country    object                41\n",
       "Salary            object                 2"
      ]
     },
     "execution_count": 19,
     "metadata": {},
     "output_type": "execute_result"
    }
   ],
   "source": [
    "categorical_variables(data)"
   ]
  },
  {
   "cell_type": "markdown",
   "metadata": {},
   "source": [
    "List of Numerical Variables in the dataset"
   ]
  },
  {
   "cell_type": "code",
   "execution_count": 20,
   "metadata": {},
   "outputs": [
    {
     "data": {
      "text/html": [
       "<div>\n",
       "<style scoped>\n",
       "    .dataframe tbody tr th:only-of-type {\n",
       "        vertical-align: middle;\n",
       "    }\n",
       "\n",
       "    .dataframe tbody tr th {\n",
       "        vertical-align: top;\n",
       "    }\n",
       "\n",
       "    .dataframe thead th {\n",
       "        text-align: right;\n",
       "    }\n",
       "</style>\n",
       "<table border=\"1\" class=\"dataframe\">\n",
       "  <thead>\n",
       "    <tr style=\"text-align: right;\">\n",
       "      <th></th>\n",
       "      <th>Data Type</th>\n",
       "      <th>Number of levels</th>\n",
       "    </tr>\n",
       "  </thead>\n",
       "  <tbody>\n",
       "    <tr>\n",
       "      <th>age</th>\n",
       "      <td>int64</td>\n",
       "      <td>73</td>\n",
       "    </tr>\n",
       "    <tr>\n",
       "      <th>fnlwgt</th>\n",
       "      <td>int64</td>\n",
       "      <td>21648</td>\n",
       "    </tr>\n",
       "    <tr>\n",
       "      <th>education-num</th>\n",
       "      <td>int64</td>\n",
       "      <td>16</td>\n",
       "    </tr>\n",
       "    <tr>\n",
       "      <th>capital-gain</th>\n",
       "      <td>int64</td>\n",
       "      <td>119</td>\n",
       "    </tr>\n",
       "    <tr>\n",
       "      <th>capital-loss</th>\n",
       "      <td>int64</td>\n",
       "      <td>92</td>\n",
       "    </tr>\n",
       "    <tr>\n",
       "      <th>hours-per-week</th>\n",
       "      <td>int64</td>\n",
       "      <td>94</td>\n",
       "    </tr>\n",
       "  </tbody>\n",
       "</table>\n",
       "</div>"
      ],
      "text/plain": [
       "               Data Type  Number of levels\n",
       "age                int64                73\n",
       "fnlwgt             int64             21648\n",
       "education-num      int64                16\n",
       "capital-gain       int64               119\n",
       "capital-loss       int64                92\n",
       "hours-per-week     int64                94"
      ]
     },
     "execution_count": 20,
     "metadata": {},
     "output_type": "execute_result"
    }
   ],
   "source": [
    "numerical_variables(data)"
   ]
  },
  {
   "cell_type": "markdown",
   "metadata": {},
   "source": [
    "Encoding and creating new dummy variables"
   ]
  },
  {
   "cell_type": "code",
   "execution_count": 21,
   "metadata": {},
   "outputs": [],
   "source": [
    "data['Salary'] = data['Salary'].map({' <=50K':0, ' >50K':1})\n",
    "data['sex'] = data['sex'].map({' Male':0, ' Female':1})"
   ]
  },
  {
   "cell_type": "code",
   "execution_count": 22,
   "metadata": {},
   "outputs": [],
   "source": [
    "data = create_dummy_variables(data, ['marital-status', 'race', 'relationship', 'workclass', 'native-country'])"
   ]
  },
  {
   "cell_type": "code",
   "execution_count": 24,
   "metadata": {},
   "outputs": [
    {
     "data": {
      "text/html": [
       "<div>\n",
       "<style scoped>\n",
       "    .dataframe tbody tr th:only-of-type {\n",
       "        vertical-align: middle;\n",
       "    }\n",
       "\n",
       "    .dataframe tbody tr th {\n",
       "        vertical-align: top;\n",
       "    }\n",
       "\n",
       "    .dataframe thead th {\n",
       "        text-align: right;\n",
       "    }\n",
       "</style>\n",
       "<table border=\"1\" class=\"dataframe\">\n",
       "  <thead>\n",
       "    <tr style=\"text-align: right;\">\n",
       "      <th></th>\n",
       "      <th>Data Type</th>\n",
       "      <th>Number of levels</th>\n",
       "    </tr>\n",
       "  </thead>\n",
       "  <tbody>\n",
       "    <tr>\n",
       "      <th>age</th>\n",
       "      <td>int64</td>\n",
       "      <td>73</td>\n",
       "    </tr>\n",
       "    <tr>\n",
       "      <th>fnlwgt</th>\n",
       "      <td>int64</td>\n",
       "      <td>21648</td>\n",
       "    </tr>\n",
       "    <tr>\n",
       "      <th>education-num</th>\n",
       "      <td>int64</td>\n",
       "      <td>16</td>\n",
       "    </tr>\n",
       "    <tr>\n",
       "      <th>sex</th>\n",
       "      <td>int64</td>\n",
       "      <td>2</td>\n",
       "    </tr>\n",
       "    <tr>\n",
       "      <th>capital-gain</th>\n",
       "      <td>int64</td>\n",
       "      <td>119</td>\n",
       "    </tr>\n",
       "    <tr>\n",
       "      <th>capital-loss</th>\n",
       "      <td>int64</td>\n",
       "      <td>92</td>\n",
       "    </tr>\n",
       "    <tr>\n",
       "      <th>hours-per-week</th>\n",
       "      <td>int64</td>\n",
       "      <td>94</td>\n",
       "    </tr>\n",
       "    <tr>\n",
       "      <th>Salary</th>\n",
       "      <td>int64</td>\n",
       "      <td>2</td>\n",
       "    </tr>\n",
       "    <tr>\n",
       "      <th>marital-status_ Divorced</th>\n",
       "      <td>uint8</td>\n",
       "      <td>2</td>\n",
       "    </tr>\n",
       "    <tr>\n",
       "      <th>marital-status_ Married-AF-spouse</th>\n",
       "      <td>uint8</td>\n",
       "      <td>2</td>\n",
       "    </tr>\n",
       "  </tbody>\n",
       "</table>\n",
       "</div>"
      ],
      "text/plain": [
       "                                  Data Type  Number of levels\n",
       "age                                   int64                73\n",
       "fnlwgt                                int64             21648\n",
       "education-num                         int64                16\n",
       "sex                                   int64                 2\n",
       "capital-gain                          int64               119\n",
       "capital-loss                          int64                92\n",
       "hours-per-week                        int64                94\n",
       "Salary                                int64                 2\n",
       "marital-status_ Divorced              uint8                 2\n",
       "marital-status_ Married-AF-spouse     uint8                 2"
      ]
     },
     "execution_count": 24,
     "metadata": {},
     "output_type": "execute_result"
    }
   ],
   "source": [
    "numerical_data1 = numerical_data(data)\n",
    "numerical_variables(numerical_data1).head(10)"
   ]
  },
  {
   "cell_type": "code",
   "execution_count": 25,
   "metadata": {},
   "outputs": [
    {
     "data": {
      "text/plain": [
       "(32561, 75)"
      ]
     },
     "execution_count": 25,
     "metadata": {},
     "output_type": "execute_result"
    }
   ],
   "source": [
    "numerical_data1.shape"
   ]
  },
  {
   "cell_type": "markdown",
   "metadata": {},
   "source": [
    "So we have now 74 predictor variables to train to understand the effect of each or any variable on salary"
   ]
  },
  {
   "cell_type": "markdown",
   "metadata": {},
   "source": [
    "### Calculate Highly Correlated Variables"
   ]
  },
  {
   "cell_type": "code",
   "execution_count": 3,
   "metadata": {},
   "outputs": [],
   "source": [
    "def high_correlation(dataset, cutoff):\n",
    "    while True:\n",
    "        corr = dataset.corr().abs()\n",
    "        corr = corr.unstack()\n",
    "        corr = corr.sort_values(kind=\"quicksort\", ascending = False)\n",
    "        new_corr = corr[(corr > cutoff) & (corr <1.0) ]\n",
    "        new_corr = pd.DataFrame(new_corr, columns= [\"Pearson Correlation Coefficent\"])\n",
    "        return new_corr\n",
    "    else:\n",
    "        return print(\"The dataset might have categorical variables\")"
   ]
  },
  {
   "cell_type": "code",
   "execution_count": 27,
   "metadata": {},
   "outputs": [
    {
     "data": {
      "text/html": [
       "<div>\n",
       "<style scoped>\n",
       "    .dataframe tbody tr th:only-of-type {\n",
       "        vertical-align: middle;\n",
       "    }\n",
       "\n",
       "    .dataframe tbody tr th {\n",
       "        vertical-align: top;\n",
       "    }\n",
       "\n",
       "    .dataframe thead th {\n",
       "        text-align: right;\n",
       "    }\n",
       "</style>\n",
       "<table border=\"1\" class=\"dataframe\">\n",
       "  <thead>\n",
       "    <tr style=\"text-align: right;\">\n",
       "      <th></th>\n",
       "      <th></th>\n",
       "      <th>Pearson Correlation Coefficent</th>\n",
       "    </tr>\n",
       "  </thead>\n",
       "  <tbody>\n",
       "    <tr>\n",
       "      <th>relationship_ Husband</th>\n",
       "      <th>marital-status_ Married-civ-spouse</th>\n",
       "      <td>0.893210</td>\n",
       "    </tr>\n",
       "    <tr>\n",
       "      <th>marital-status_ Married-civ-spouse</th>\n",
       "      <th>relationship_ Husband</th>\n",
       "      <td>0.893210</td>\n",
       "    </tr>\n",
       "    <tr>\n",
       "      <th>race_ White</th>\n",
       "      <th>race_ Black</th>\n",
       "      <td>0.788747</td>\n",
       "    </tr>\n",
       "    <tr>\n",
       "      <th>race_ Black</th>\n",
       "      <th>race_ White</th>\n",
       "      <td>0.788747</td>\n",
       "    </tr>\n",
       "  </tbody>\n",
       "</table>\n",
       "</div>"
      ],
      "text/plain": [
       "                                                                       Pearson Correlation Coefficent\n",
       "relationship_ Husband              marital-status_ Married-civ-spouse                        0.893210\n",
       "marital-status_ Married-civ-spouse relationship_ Husband                                     0.893210\n",
       "race_ White                        race_ Black                                               0.788747\n",
       "race_ Black                        race_ White                                               0.788747"
      ]
     },
     "execution_count": 27,
     "metadata": {},
     "output_type": "execute_result"
    }
   ],
   "source": [
    "high_correlation(numerical_data1,0.7)"
   ]
  },
  {
   "cell_type": "code",
   "execution_count": 28,
   "metadata": {},
   "outputs": [],
   "source": [
    "numerical_data1 = numerical_data1.drop(['relationship_ Husband'], axis =1)\n",
    "# removing highly correlated variable "
   ]
  },
  {
   "cell_type": "markdown",
   "metadata": {},
   "source": [
    "Make \"Salary\" as binary predicting variable and rest as predictors. "
   ]
  },
  {
   "cell_type": "code",
   "execution_count": 29,
   "metadata": {},
   "outputs": [],
   "source": [
    "y = numerical_data1['Salary']\n",
    "X = numerical_data1.drop(['Salary'], axis = 1)"
   ]
  },
  {
   "cell_type": "markdown",
   "metadata": {},
   "source": [
    "#### Train-Test Split and Applying StandardScaler for feature scaling"
   ]
  },
  {
   "cell_type": "code",
   "execution_count": 30,
   "metadata": {},
   "outputs": [],
   "source": [
    "from sklearn.preprocessing import StandardScaler\n",
    "from sklearn.model_selection import train_test_split\n",
    "\n",
    "X_train_org, X_test_org, y_train, y_test = train_test_split(X, y, random_state = 42, test_size = 0.3)\n",
    "\n",
    "scaler = StandardScaler()\n",
    "X_train = pd.DataFrame(scaler.fit_transform(X_train_org))\n",
    "X_test = pd.DataFrame(scaler.transform(X_test_org))\n",
    "\n",
    "X_train.columns = X_train_org.columns"
   ]
  },
  {
   "cell_type": "code",
   "execution_count": 46,
   "metadata": {},
   "outputs": [
    {
     "data": {
      "text/html": [
       "<div>\n",
       "<style scoped>\n",
       "    .dataframe tbody tr th:only-of-type {\n",
       "        vertical-align: middle;\n",
       "    }\n",
       "\n",
       "    .dataframe tbody tr th {\n",
       "        vertical-align: top;\n",
       "    }\n",
       "\n",
       "    .dataframe thead th {\n",
       "        text-align: right;\n",
       "    }\n",
       "</style>\n",
       "<table border=\"1\" class=\"dataframe\">\n",
       "  <thead>\n",
       "    <tr style=\"text-align: right;\">\n",
       "      <th></th>\n",
       "      <th>age</th>\n",
       "      <th>fnlwgt</th>\n",
       "      <th>education-num</th>\n",
       "      <th>sex</th>\n",
       "      <th>capital-gain</th>\n",
       "      <th>capital-loss</th>\n",
       "      <th>hours-per-week</th>\n",
       "      <th>marital-status_ Divorced</th>\n",
       "      <th>marital-status_ Married-AF-spouse</th>\n",
       "      <th>marital-status_ Married-civ-spouse</th>\n",
       "      <th>...</th>\n",
       "      <th>native-country_ Portugal</th>\n",
       "      <th>native-country_ Puerto-Rico</th>\n",
       "      <th>native-country_ Scotland</th>\n",
       "      <th>native-country_ South</th>\n",
       "      <th>native-country_ Taiwan</th>\n",
       "      <th>native-country_ Thailand</th>\n",
       "      <th>native-country_ Trinadad&amp;Tobago</th>\n",
       "      <th>native-country_ United-States</th>\n",
       "      <th>native-country_ Vietnam</th>\n",
       "      <th>native-country_ Yugoslavia</th>\n",
       "    </tr>\n",
       "  </thead>\n",
       "  <tbody>\n",
       "    <tr>\n",
       "      <th>0</th>\n",
       "      <td>-0.334771</td>\n",
       "      <td>-1.261292</td>\n",
       "      <td>-0.423219</td>\n",
       "      <td>1.423243</td>\n",
       "      <td>-0.146349</td>\n",
       "      <td>5.136118</td>\n",
       "      <td>-2.309851</td>\n",
       "      <td>-0.396026</td>\n",
       "      <td>-0.028114</td>\n",
       "      <td>1.079683</td>\n",
       "      <td>...</td>\n",
       "      <td>-0.035072</td>\n",
       "      <td>-0.061183</td>\n",
       "      <td>-0.017528</td>\n",
       "      <td>-0.052227</td>\n",
       "      <td>-0.039217</td>\n",
       "      <td>-0.021974</td>\n",
       "      <td>-0.024792</td>\n",
       "      <td>0.345377</td>\n",
       "      <td>-0.048733</td>\n",
       "      <td>-0.022952</td>\n",
       "    </tr>\n",
       "    <tr>\n",
       "      <th>1</th>\n",
       "      <td>0.691223</td>\n",
       "      <td>0.510642</td>\n",
       "      <td>-0.035377</td>\n",
       "      <td>-0.702621</td>\n",
       "      <td>0.929742</td>\n",
       "      <td>-0.219921</td>\n",
       "      <td>-0.031295</td>\n",
       "      <td>-0.396026</td>\n",
       "      <td>-0.028114</td>\n",
       "      <td>1.079683</td>\n",
       "      <td>...</td>\n",
       "      <td>-0.035072</td>\n",
       "      <td>-0.061183</td>\n",
       "      <td>-0.017528</td>\n",
       "      <td>-0.052227</td>\n",
       "      <td>-0.039217</td>\n",
       "      <td>-0.021974</td>\n",
       "      <td>-0.024792</td>\n",
       "      <td>0.345377</td>\n",
       "      <td>-0.048733</td>\n",
       "      <td>-0.022952</td>\n",
       "    </tr>\n",
       "    <tr>\n",
       "      <th>2</th>\n",
       "      <td>-1.140909</td>\n",
       "      <td>-1.261841</td>\n",
       "      <td>-0.035377</td>\n",
       "      <td>-0.702621</td>\n",
       "      <td>-0.146349</td>\n",
       "      <td>-0.219921</td>\n",
       "      <td>-0.845065</td>\n",
       "      <td>-0.396026</td>\n",
       "      <td>-0.028114</td>\n",
       "      <td>1.079683</td>\n",
       "      <td>...</td>\n",
       "      <td>-0.035072</td>\n",
       "      <td>-0.061183</td>\n",
       "      <td>-0.017528</td>\n",
       "      <td>-0.052227</td>\n",
       "      <td>-0.039217</td>\n",
       "      <td>-0.021974</td>\n",
       "      <td>-0.024792</td>\n",
       "      <td>0.345377</td>\n",
       "      <td>-0.048733</td>\n",
       "      <td>-0.022952</td>\n",
       "    </tr>\n",
       "    <tr>\n",
       "      <th>3</th>\n",
       "      <td>1.277505</td>\n",
       "      <td>0.622115</td>\n",
       "      <td>-0.423219</td>\n",
       "      <td>1.423243</td>\n",
       "      <td>-0.146349</td>\n",
       "      <td>-0.219921</td>\n",
       "      <td>-0.031295</td>\n",
       "      <td>2.525085</td>\n",
       "      <td>-0.028114</td>\n",
       "      <td>-0.926197</td>\n",
       "      <td>...</td>\n",
       "      <td>-0.035072</td>\n",
       "      <td>-0.061183</td>\n",
       "      <td>-0.017528</td>\n",
       "      <td>-0.052227</td>\n",
       "      <td>-0.039217</td>\n",
       "      <td>-0.021974</td>\n",
       "      <td>-0.024792</td>\n",
       "      <td>0.345377</td>\n",
       "      <td>-0.048733</td>\n",
       "      <td>-0.022952</td>\n",
       "    </tr>\n",
       "    <tr>\n",
       "      <th>4</th>\n",
       "      <td>-1.580621</td>\n",
       "      <td>1.018212</td>\n",
       "      <td>-1.198902</td>\n",
       "      <td>1.423243</td>\n",
       "      <td>-0.146349</td>\n",
       "      <td>-0.219921</td>\n",
       "      <td>-2.553982</td>\n",
       "      <td>-0.396026</td>\n",
       "      <td>-0.028114</td>\n",
       "      <td>-0.926197</td>\n",
       "      <td>...</td>\n",
       "      <td>-0.035072</td>\n",
       "      <td>-0.061183</td>\n",
       "      <td>-0.017528</td>\n",
       "      <td>-0.052227</td>\n",
       "      <td>-0.039217</td>\n",
       "      <td>-0.021974</td>\n",
       "      <td>-0.024792</td>\n",
       "      <td>0.345377</td>\n",
       "      <td>-0.048733</td>\n",
       "      <td>-0.022952</td>\n",
       "    </tr>\n",
       "  </tbody>\n",
       "</table>\n",
       "<p>5 rows × 73 columns</p>\n",
       "</div>"
      ],
      "text/plain": [
       "        age    fnlwgt  education-num       sex  capital-gain  capital-loss  \\\n",
       "0 -0.334771 -1.261292      -0.423219  1.423243     -0.146349      5.136118   \n",
       "1  0.691223  0.510642      -0.035377 -0.702621      0.929742     -0.219921   \n",
       "2 -1.140909 -1.261841      -0.035377 -0.702621     -0.146349     -0.219921   \n",
       "3  1.277505  0.622115      -0.423219  1.423243     -0.146349     -0.219921   \n",
       "4 -1.580621  1.018212      -1.198902  1.423243     -0.146349     -0.219921   \n",
       "\n",
       "   hours-per-week  marital-status_ Divorced  \\\n",
       "0       -2.309851                 -0.396026   \n",
       "1       -0.031295                 -0.396026   \n",
       "2       -0.845065                 -0.396026   \n",
       "3       -0.031295                  2.525085   \n",
       "4       -2.553982                 -0.396026   \n",
       "\n",
       "   marital-status_ Married-AF-spouse  marital-status_ Married-civ-spouse  ...  \\\n",
       "0                          -0.028114                            1.079683  ...   \n",
       "1                          -0.028114                            1.079683  ...   \n",
       "2                          -0.028114                            1.079683  ...   \n",
       "3                          -0.028114                           -0.926197  ...   \n",
       "4                          -0.028114                           -0.926197  ...   \n",
       "\n",
       "   native-country_ Portugal  native-country_ Puerto-Rico  \\\n",
       "0                 -0.035072                    -0.061183   \n",
       "1                 -0.035072                    -0.061183   \n",
       "2                 -0.035072                    -0.061183   \n",
       "3                 -0.035072                    -0.061183   \n",
       "4                 -0.035072                    -0.061183   \n",
       "\n",
       "   native-country_ Scotland  native-country_ South  native-country_ Taiwan  \\\n",
       "0                 -0.017528              -0.052227               -0.039217   \n",
       "1                 -0.017528              -0.052227               -0.039217   \n",
       "2                 -0.017528              -0.052227               -0.039217   \n",
       "3                 -0.017528              -0.052227               -0.039217   \n",
       "4                 -0.017528              -0.052227               -0.039217   \n",
       "\n",
       "   native-country_ Thailand  native-country_ Trinadad&Tobago  \\\n",
       "0                 -0.021974                        -0.024792   \n",
       "1                 -0.021974                        -0.024792   \n",
       "2                 -0.021974                        -0.024792   \n",
       "3                 -0.021974                        -0.024792   \n",
       "4                 -0.021974                        -0.024792   \n",
       "\n",
       "   native-country_ United-States  native-country_ Vietnam  \\\n",
       "0                       0.345377                -0.048733   \n",
       "1                       0.345377                -0.048733   \n",
       "2                       0.345377                -0.048733   \n",
       "3                       0.345377                -0.048733   \n",
       "4                       0.345377                -0.048733   \n",
       "\n",
       "   native-country_ Yugoslavia  \n",
       "0                   -0.022952  \n",
       "1                   -0.022952  \n",
       "2                   -0.022952  \n",
       "3                   -0.022952  \n",
       "4                   -0.022952  \n",
       "\n",
       "[5 rows x 73 columns]"
      ]
     },
     "execution_count": 46,
     "metadata": {},
     "output_type": "execute_result"
    }
   ],
   "source": [
    "X_train.head()"
   ]
  },
  {
   "cell_type": "markdown",
   "metadata": {},
   "source": [
    "#### Function to plot Decision Region"
   ]
  },
  {
   "cell_type": "code",
   "execution_count": 31,
   "metadata": {},
   "outputs": [],
   "source": [
    "from sklearn.decomposition import PCA\n",
    "%matplotlib inline\n",
    "\n",
    "import matplotlib.pyplot as plt\n",
    "import seaborn as sns\n",
    "from mlxtend.plotting import plot_decision_regions\n",
    "from sklearn.svm import SVC, LinearSVC\n",
    "import matplotlib.gridspec as gridspec\n",
    "import itertools\n",
    "\n",
    "\n",
    "pca = PCA(n_components=2)\n",
    "principalComponents = pca.fit_transform(X_train)\n",
    "pdf = pd.DataFrame(data = principalComponents\n",
    "            , columns = ['principal component 1', 'principal component 2'])\n",
    "x_a = pdf.values[:100,]\n",
    "y_b = y_train.values[:100,]\n",
    "\n",
    "def plot_decision(Xtrain, ytrain, Xfig, Yfig, title, model_name):    \n",
    "    model_name.fit(Xtrain, ytrain)\n",
    "\n",
    "    fig = plt.figure(figsize=(Xfig, Yfig))\n",
    "    sns.set_style(\"whitegrid\")\n",
    "    sns.set_context(\"poster\")\n",
    "\n",
    "    fig = plot_decision_regions(X=x_a, y=y_b, clf=model_name, legend=3)\n",
    "    plt.title(title)\n",
    "    plt.show()"
   ]
  },
  {
   "cell_type": "markdown",
   "metadata": {},
   "source": [
    "<center><h3><span style=\"color:#000058\"> Decision Tree Algorithm </span></h3> </center>\n",
    "\n",
    "Here we are trying to classify \"Salary\" variable using decision tree algorithm. The training accuracy is 100% and the testing accuracy is 80%. This suggests the current model has high variance issue, and model is not able to perform well in newer data. The classic example of \"overfitting\". "
   ]
  },
  {
   "cell_type": "code",
   "execution_count": 32,
   "metadata": {},
   "outputs": [
    {
     "name": "stdout",
     "output_type": "stream",
     "text": [
      "Accuracy on training set: 1.000\n",
      "Accuracy on test set: 0.807\n"
     ]
    },
    {
     "data": {
      "image/png": "[encoded data removed]",
      "text/plain": [
       "<matplotlib.figure.Figure at 0x1e34e74ff98>"
      ]
     },
     "metadata": {},
     "output_type": "display_data"
    }
   ],
   "source": [
    "from sklearn.tree import DecisionTreeClassifier\n",
    "\n",
    "dtree = DecisionTreeClassifier(random_state=0)\n",
    "\n",
    "dtree.fit(X_train, y_train)\n",
    "print(\"Accuracy on training set: {:.3f}\".format(dtree.score(X_train, y_train)))\n",
    "print(\"Accuracy on test set: {:.3f}\".format(dtree.score(X_test, y_test)))\n",
    "\n",
    "train_dtree = dtree.score(X_train, y_train)\n",
    "test_dtree = dtree.score(X_test, y_test)\n",
    "\n",
    "plot_decision(x_a, y_b, 5, 5, \"Decision Tree\", dtree)"
   ]
  },
  {
   "cell_type": "markdown",
   "metadata": {},
   "source": [
    "<center><h3><span style=\"color:#000058\"> Decision Tree with Bagging </span></h3> </center>\n",
    "\n",
    "To improve the test model accuracy or reduce the variance (overfitting) we are applying bootstrap aggrigating algorithm \n",
    "also known as bagging. The accuracy of training dataset is 84% and testing dataset is 85%. Hence, we overcome the previous\n",
    "high bias issue. "
   ]
  },
  {
   "cell_type": "code",
   "execution_count": 33,
   "metadata": {},
   "outputs": [
    {
     "name": "stdout",
     "output_type": "stream",
     "text": [
      "Accuracy on training set: 0.848\n",
      "Accuracy on test set: 0.851\n"
     ]
    },
    {
     "data": {
      "image/png": "[encoded data removed]",
      "text/plain": [
       "<matplotlib.figure.Figure at 0x1e34da22fd0>"
      ]
     },
     "metadata": {},
     "output_type": "display_data"
    }
   ],
   "source": [
    "from sklearn.ensemble import BaggingClassifier\n",
    "\n",
    "bag = BaggingClassifier(dtree, n_estimators=500, max_samples=100, bootstrap=True, n_jobs=-1, random_state=0)\n",
    "\n",
    "bag.fit(X_train, y_train)\n",
    "\n",
    "print(\"Accuracy on training set: {:.3f}\".format(bag.score(X_train, y_train)))\n",
    "print(\"Accuracy on test set: {:.3f}\".format(bag.score(X_test, y_test)))\n",
    "\n",
    "train_bag = bag.score(X_train, y_train)\n",
    "test_bag = bag.score(X_test, y_test)\n",
    "\n",
    "plot_decision(x_a, y_b, 5, 5, \"Decision Tree: Bagging\", bag)"
   ]
  },
  {
   "cell_type": "markdown",
   "metadata": {},
   "source": [
    "<center><h3><span style=\"color:#000058\"> Random Forest </span></h3> </center>\n",
    "\n",
    "Our Model is stable and has low variance, but we would also like to improve its accuracy (if possible). To achieve this goal\n",
    "we will train the \"Random Forest \" algorithm and we will also use GridSearchCV to tune the hyperparameters. By doing that we\n",
    "achieved test data accuracy of 86% which is higher than the previous model and train data accuracy of 88% which is also higher\n",
    "compared to bagging algorithm. "
   ]
  },
  {
   "cell_type": "code",
   "execution_count": 35,
   "metadata": {},
   "outputs": [
    {
     "name": "stdout",
     "output_type": "stream",
     "text": [
      "Tuned rb Parameters: {'max_depth': 15, 'n_estimators': 400}\n",
      "Best score is 0.8581519831519832\n"
     ]
    }
   ],
   "source": [
    "#Random forest\n",
    " \n",
    "from sklearn.ensemble import RandomForestClassifier\n",
    "from sklearn.model_selection import GridSearchCV\n",
    "\n",
    "params_rf = {\n",
    "             'n_estimators': [200,300,400],\n",
    "             'max_depth': [8,12,15]\n",
    "             }\n",
    "grid_rf = GridSearchCV(RandomForestClassifier(random_state=0),\n",
    "                       param_grid=params_rf)\n",
    "\n",
    "grid_rf.fit(X_train, y_train)\n",
    "\n",
    "print(\"Tuned rb Parameters: {}\".format(grid_rf.best_params_))\n",
    "print(\"Best score is {}\".format(grid_rf.best_score_))"
   ]
  },
  {
   "cell_type": "code",
   "execution_count": 36,
   "metadata": {},
   "outputs": [
    {
     "name": "stdout",
     "output_type": "stream",
     "text": [
      "Accuracy on training set: 0.8808\n",
      "Accuracy on test set: 0.8600\n"
     ]
    },
    {
     "data": {
      "image/png": "[encoded data removed]",
      "text/plain": [
       "<matplotlib.figure.Figure at 0x1e34f7fa128>"
      ]
     },
     "metadata": {},
     "output_type": "display_data"
    }
   ],
   "source": [
    "from sklearn.ensemble import RandomForestClassifier\n",
    "\n",
    "rf = RandomForestClassifier(n_estimators=400, max_depth = 15, bootstrap=True, n_jobs=-1, random_state=0)\n",
    "\n",
    "rf.fit(X_train, y_train)\n",
    "\n",
    "print(\"Accuracy on training set: {:.4f}\".format(rf.score(X_train, y_train)))\n",
    "print(\"Accuracy on test set: {:.4f}\".format(rf.score(X_test, y_test)))\n",
    "\n",
    "train_rf = rf.score(X_train, y_train)\n",
    "test_rf = rf.score(X_test, y_test)\n",
    "\n",
    "plot_decision(x_a, y_b, 5, 5, \"Random Forest\", rf)"
   ]
  },
  {
   "cell_type": "markdown",
   "metadata": {},
   "source": [
    "<center><h3><span style=\"color:#000058\"> Visualizing Train-Test accuracy </span></h3> </center>"
   ]
  },
  {
   "cell_type": "code",
   "execution_count": 96,
   "metadata": {},
   "outputs": [
    {
     "data": {
      "image/png": "[encoded data removed]",
      "text/plain": [
       "<matplotlib.figure.Figure at 0x1e35131a6a0>"
      ]
     },
     "metadata": {},
     "output_type": "display_data"
    },
    {
     "data": {
      "text/html": [
       "<div>\n",
       "<style scoped>\n",
       "    .dataframe tbody tr th:only-of-type {\n",
       "        vertical-align: middle;\n",
       "    }\n",
       "\n",
       "    .dataframe tbody tr th {\n",
       "        vertical-align: top;\n",
       "    }\n",
       "\n",
       "    .dataframe thead th {\n",
       "        text-align: right;\n",
       "    }\n",
       "</style>\n",
       "<table border=\"1\" class=\"dataframe\">\n",
       "  <thead>\n",
       "    <tr style=\"text-align: right;\">\n",
       "      <th></th>\n",
       "      <th>Models</th>\n",
       "      <th>Type</th>\n",
       "      <th>Scores</th>\n",
       "      <th>Percentage Accuracy</th>\n",
       "    </tr>\n",
       "  </thead>\n",
       "  <tbody>\n",
       "    <tr>\n",
       "      <th>0</th>\n",
       "      <td>Decision Tree</td>\n",
       "      <td>Training Score</td>\n",
       "      <td>0.999737</td>\n",
       "      <td>99.97%</td>\n",
       "    </tr>\n",
       "    <tr>\n",
       "      <th>1</th>\n",
       "      <td>Bagging</td>\n",
       "      <td>Training Score</td>\n",
       "      <td>0.848236</td>\n",
       "      <td>84.82%</td>\n",
       "    </tr>\n",
       "    <tr>\n",
       "      <th>2</th>\n",
       "      <td>Random Forest</td>\n",
       "      <td>Training Score</td>\n",
       "      <td>0.880792</td>\n",
       "      <td>88.08%</td>\n",
       "    </tr>\n",
       "    <tr>\n",
       "      <th>3</th>\n",
       "      <td>Decision Tree</td>\n",
       "      <td>Testing Score</td>\n",
       "      <td>0.806940</td>\n",
       "      <td>80.69%</td>\n",
       "    </tr>\n",
       "    <tr>\n",
       "      <th>4</th>\n",
       "      <td>Bagging</td>\n",
       "      <td>Testing Score</td>\n",
       "      <td>0.850957</td>\n",
       "      <td>85.1%</td>\n",
       "    </tr>\n",
       "    <tr>\n",
       "      <th>5</th>\n",
       "      <td>Random Forest</td>\n",
       "      <td>Testing Score</td>\n",
       "      <td>0.859965</td>\n",
       "      <td>86.0%</td>\n",
       "    </tr>\n",
       "  </tbody>\n",
       "</table>\n",
       "</div>"
      ],
      "text/plain": [
       "          Models            Type    Scores Percentage Accuracy\n",
       "0  Decision Tree  Training Score  0.999737              99.97%\n",
       "1        Bagging  Training Score  0.848236              84.82%\n",
       "2  Random Forest  Training Score  0.880792              88.08%\n",
       "3  Decision Tree   Testing Score  0.806940              80.69%\n",
       "4        Bagging   Testing Score  0.850957               85.1%\n",
       "5  Random Forest   Testing Score  0.859965               86.0%"
      ]
     },
     "execution_count": 96,
     "metadata": {},
     "output_type": "execute_result"
    }
   ],
   "source": [
    "labels= [\"Decision Tree\", \"Bagging\", \"Random Forest\"]\n",
    "Train_values_paste = [train_dtree, train_bag, train_rf]\n",
    "Test_values_paste = [test_dtree, test_bag, test_rf]\n",
    "d6 = {'Models':labels,  'Training Score': Train_values_paste, 'Testing Score': Test_values_paste,}\n",
    "d6 = pd.DataFrame(d6)\n",
    "df_ada = pd.melt(d6, id_vars = ['Models'], var_name='Type', value_name='Scores')\n",
    "Scores_percentage1 = ((100. * df_ada['Scores']).round(2) ).astype(str) + '%'\n",
    "df_ada['Percentage Accuracy'] = Scores_percentage1\n",
    "\n",
    "\n",
    "import matplotlib.pyplot as plt\n",
    "import seaborn as sns\n",
    "plt.subplots(figsize=(7,5))\n",
    "sns.set_palette(\"GnBu_r\",2)\n",
    "g = sns.barplot(x=\"Models\", y=\"Scores\",hue = 'Type', data=df_ada,edgecolor=sns.color_palette('dark',7))\n",
    "g.set_ylim(0, 1, 10)\n",
    "sns.set_context(\"talk\")\n",
    "plt.legend(bbox_to_anchor=(0., 1.07, 1., .102), loc=3,\n",
    "           ncol=2, mode=\"expand\", borderaxespad=0.)\n",
    "plt.title('Accuracy Comparison')\n",
    "plt.show()\n",
    "\n",
    "df_ada"
   ]
  },
  {
   "cell_type": "markdown",
   "metadata": {},
   "source": [
    "<center><h3><span style=\"color:#000058\"> Identify the most important features </span></h3> </center>\n",
    "\n",
    "\n",
    "The decision tree and random forest algorithms have fascility to visualize most important features to predict the salary outcome.\n",
    "\"Final weight\", \"maritial status\", \"education\" and \"age\" are the most important features to predict salary outcome when trained\n",
    "the decision tree. \n",
    "\"Capital gain\", \"education\", \"marital-status\" and \"age\" are the most important featurs to predict the salary outcome when trained the Random Forest algorithm. "
   ]
  },
  {
   "cell_type": "code",
   "execution_count": 66,
   "metadata": {},
   "outputs": [
    {
     "data": {
      "image/png": "[encoded data removed]",
      "text/plain": [
       "<matplotlib.figure.Figure at 0x1e351133b00>"
      ]
     },
     "metadata": {},
     "output_type": "display_data"
    },
    {
     "name": "stdout",
     "output_type": "stream",
     "text": [
      "TOP FEATURES\n"
     ]
    },
    {
     "data": {
      "text/html": [
       "<div>\n",
       "<style scoped>\n",
       "    .dataframe tbody tr th:only-of-type {\n",
       "        vertical-align: middle;\n",
       "    }\n",
       "\n",
       "    .dataframe tbody tr th {\n",
       "        vertical-align: top;\n",
       "    }\n",
       "\n",
       "    .dataframe thead th {\n",
       "        text-align: right;\n",
       "    }\n",
       "</style>\n",
       "<table border=\"1\" class=\"dataframe\">\n",
       "  <thead>\n",
       "    <tr style=\"text-align: right;\">\n",
       "      <th></th>\n",
       "      <th>Values</th>\n",
       "    </tr>\n",
       "  </thead>\n",
       "  <tbody>\n",
       "    <tr>\n",
       "      <th>fnlwgt</th>\n",
       "      <td>0.242113</td>\n",
       "    </tr>\n",
       "    <tr>\n",
       "      <th>marital-status_ Married-civ-spouse</th>\n",
       "      <td>0.201443</td>\n",
       "    </tr>\n",
       "    <tr>\n",
       "      <th>education-num</th>\n",
       "      <td>0.122859</td>\n",
       "    </tr>\n",
       "    <tr>\n",
       "      <th>age</th>\n",
       "      <td>0.118388</td>\n",
       "    </tr>\n",
       "    <tr>\n",
       "      <th>capital-gain</th>\n",
       "      <td>0.104656</td>\n",
       "    </tr>\n",
       "    <tr>\n",
       "      <th>hours-per-week</th>\n",
       "      <td>0.062127</td>\n",
       "    </tr>\n",
       "    <tr>\n",
       "      <th>capital-loss</th>\n",
       "      <td>0.040286</td>\n",
       "    </tr>\n",
       "    <tr>\n",
       "      <th>workclass_ Private</th>\n",
       "      <td>0.011256</td>\n",
       "    </tr>\n",
       "  </tbody>\n",
       "</table>\n",
       "</div>"
      ],
      "text/plain": [
       "                                      Values\n",
       "fnlwgt                              0.242113\n",
       "marital-status_ Married-civ-spouse  0.201443\n",
       "education-num                       0.122859\n",
       "age                                 0.118388\n",
       "capital-gain                        0.104656\n",
       "hours-per-week                      0.062127\n",
       "capital-loss                        0.040286\n",
       "workclass_ Private                  0.011256"
      ]
     },
     "execution_count": 66,
     "metadata": {},
     "output_type": "execute_result"
    }
   ],
   "source": [
    "# Create a pd.Series of features importances\n",
    "importances = pd.DataFrame(data=dtree.feature_importances_,\n",
    "                        index= X_train.columns, columns = [\"Values\"])\n",
    "\n",
    "# Sort importances\n",
    "importances_sorted = importances[importances[\"Values\"] > 0.001].sort_values(by = \"Values\", ascending = False).head(15)\n",
    "\n",
    "# Draw a horizontal barplot of importances_sorted\n",
    "importances_sorted.plot(kind='barh', color='lightpink')\n",
    "plt.title('Features Importances')\n",
    "plt.show()\n",
    "print(\"TOP FEATURES\")\n",
    "importances_sorted.head(8)"
   ]
  },
  {
   "cell_type": "code",
   "execution_count": 73,
   "metadata": {},
   "outputs": [
    {
     "data": {
      "image/png": "[encoded data removed]",
      "text/plain": [
       "<matplotlib.figure.Figure at 0x1e351045b70>"
      ]
     },
     "metadata": {},
     "output_type": "display_data"
    },
    {
     "name": "stdout",
     "output_type": "stream",
     "text": [
      "TOP FEATURES\n"
     ]
    },
    {
     "data": {
      "text/html": [
       "<div>\n",
       "<style scoped>\n",
       "    .dataframe tbody tr th:only-of-type {\n",
       "        vertical-align: middle;\n",
       "    }\n",
       "\n",
       "    .dataframe tbody tr th {\n",
       "        vertical-align: top;\n",
       "    }\n",
       "\n",
       "    .dataframe thead th {\n",
       "        text-align: right;\n",
       "    }\n",
       "</style>\n",
       "<table border=\"1\" class=\"dataframe\">\n",
       "  <thead>\n",
       "    <tr style=\"text-align: right;\">\n",
       "      <th></th>\n",
       "      <th>Values</th>\n",
       "    </tr>\n",
       "  </thead>\n",
       "  <tbody>\n",
       "    <tr>\n",
       "      <th>capital-gain</th>\n",
       "      <td>0.173329</td>\n",
       "    </tr>\n",
       "    <tr>\n",
       "      <th>education-num</th>\n",
       "      <td>0.161910</td>\n",
       "    </tr>\n",
       "    <tr>\n",
       "      <th>marital-status_ Married-civ-spouse</th>\n",
       "      <td>0.148003</td>\n",
       "    </tr>\n",
       "    <tr>\n",
       "      <th>age</th>\n",
       "      <td>0.089864</td>\n",
       "    </tr>\n",
       "    <tr>\n",
       "      <th>marital-status_ Never-married</th>\n",
       "      <td>0.071373</td>\n",
       "    </tr>\n",
       "    <tr>\n",
       "      <th>hours-per-week</th>\n",
       "      <td>0.065722</td>\n",
       "    </tr>\n",
       "    <tr>\n",
       "      <th>capital-loss</th>\n",
       "      <td>0.052685</td>\n",
       "    </tr>\n",
       "    <tr>\n",
       "      <th>fnlwgt</th>\n",
       "      <td>0.038198</td>\n",
       "    </tr>\n",
       "  </tbody>\n",
       "</table>\n",
       "</div>"
      ],
      "text/plain": [
       "                                      Values\n",
       "capital-gain                        0.173329\n",
       "education-num                       0.161910\n",
       "marital-status_ Married-civ-spouse  0.148003\n",
       "age                                 0.089864\n",
       "marital-status_ Never-married       0.071373\n",
       "hours-per-week                      0.065722\n",
       "capital-loss                        0.052685\n",
       "fnlwgt                              0.038198"
      ]
     },
     "execution_count": 73,
     "metadata": {},
     "output_type": "execute_result"
    }
   ],
   "source": [
    "# Create a pd.Series of features importances\n",
    "importances = pd.DataFrame(data=rf.feature_importances_,\n",
    "                        index= X_train.columns, columns = [\"Values\"])\n",
    "\n",
    "# Sort importances\n",
    "importances_sorted = importances[importances[\"Values\"] > 0.001].sort_values(by = \"Values\", ascending = False).head(15)\n",
    "\n",
    "# Draw a horizontal barplot of importances_sorted\n",
    "importances_sorted.plot(kind='barh', color='lightpink')\n",
    "plt.title('Features Importances')\n",
    "plt.show()\n",
    "print(\"TOP FEATURES\")\n",
    "importances_sorted.head(8)"
   ]
  }
 ],
 "metadata": {
  "kernelspec": {
   "display_name": "Python 3",
   "language": "python",
   "name": "python3"
  },
  "language_info": {
   "codemirror_mode": {
    "name": "ipython",
    "version": 3
   },
   "file_extension": ".py",
   "mimetype": "text/x-python",
   "name": "python",
   "nbconvert_exporter": "python",
   "pygments_lexer": "ipython3",
   "version": "3.6.4"
  }
 },
 "nbformat": 4,
 "nbformat_minor": 2
}
